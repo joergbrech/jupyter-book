{
 "cells": [
  {
   "cell_type": "markdown",
   "metadata": {},
   "source": [
    "# Connecting content with JupyterHub and Binder\n",
    "\n",
    "Because Jupyter Books are built with Jupyter Notebooks, you can connect your online\n",
    "book with a Jupyter kernel running in the cloud. This lets readers quickly interact\n",
    "with your content in a traditional coding interface using either JupyterHub or BinderHub.\n",
    "This page describes a few ways to accomplish this.\n",
    "\n",
    "## Creating interact buttons for BinderHub\n",
    "\n",
    "BinderHub can be used to build the environment needed to run a repository, and provides\n",
    "a link that lets others interact with that repository. If your Jupyter Book is hosted online\n",
    "on GitHub, you can automatically insert buttons that link to the Jupyter Notebook running in a BinderHub.\n",
    "When a user clicks the button, they'll be taken to a live version of the page. If your code\n",
    "doesn't require a significant amount of CPU or RAM, you can use the free, public BinderHub running\n",
    "at https://mybinder.org.\n",
    "\n",
    "To automatically include Binder link buttons in each page of your Jupyter Book, use the following\n",
    "configuration:\n",
    "\n",
    "```yaml\n",
    "# Binder link settings\n",
    "use_binder_button                : true  # If 'true', add a binder button for interactive links\n",
    "```\n",
    "\n",
    "In addition, you can configure the components of your Binder links, which control things like\n",
    "where your BinderHub exists, which repository is used to define the environment, etc. Here's\n",
    "an example configuration with some explanation of each field.\n",
    "\n",
    "```yaml\n",
    "binderhub_url                    : \"https://mybinder.org\"  # The URL for your BinderHub.\n",
    "binder_repo_base                 : \"https://github.com/\"  # The site on which the textbook repository is hosted\n",
    "binder_repo_org                  : \"jupyter\"  # The username or organization that owns this repository\n",
    "binder_repo_name                 : \"jupyter-book\"  # The name of the repository on the web\n",
    "binder_repo_branch               : \"master\"  # The branch on which your textbook is hosted.\n",
    "binderhub_interact_text          : \"Interact\"  # The text that interact buttons will contain.\n",
    "```\n",
    "\n",
    "## Creating interact buttons for JupyterHub\n",
    "\n",
    "JupyterHub lets you host an online service that gives users their own Jupyter servers\n",
    "with an environment that you specify for them. It allows you to give users access to\n",
    "resources and hardware that you provision in the cloud, and allows you to authenticate users\n",
    "in order to control who has access to your hardware.\n",
    "\n",
    "Similar to Binder link buttons, you can also automatically include interact links that send\n",
    "your readers to a JupyterHub that is running a live, interactive version of your page. This\n",
    "is accomplished using the [nbgitpuller](https://github.com/jupyterhub/nbgitpuller) server\n",
    "extension.\n",
    "\n",
    "```yaml\n",
    "use_jupyterhub_button            : false  # If 'true', display a button that will direct users to a JupyterHub (that you provide)\n",
    "```\n",
    "\n",
    "You can configure the location of the JupyterHub (which you may set up on your own using a guide\n",
    "such as [zero to jupyterhub for kubernetes](https://z2jh.jupyter.org) or [the littlest jupyterhub](https://tljh.jupyter.org)) with the following configuration.\n",
    "\n",
    "```yaml\n",
    "jupyterhub_url                   : \"\"  # The URL for your JupyterHub.\n",
    "```\n",
    "\n",
    "## Instantly making your book page interactive with thebelab (beta)\n",
    "\n",
    "If you'd like to provide interactivity for your content without making your readers\n",
    "leave the Jupyter Book site, you can use a project called [Thebelab](https://github.com/minrk/thebelab).\n",
    "\n",
    "This provides you a button that, when clicked, will convert each code cell into\n",
    "an **interactive** cell that can be edited. It also adds a \"run\" button to each cell,\n",
    "and connects to a Binder kernel running in the cloud.\n",
    "\n",
    "To add a Thebelab button to your Jupyter Book pages, use the following configuration:\n",
    "\n",
    "```yaml\n",
    "use_thebelab_button              : true  # If 'true', display a button to allow in-page running code cells with Thebelab\n",
    "```\n",
    "\n",
    "In addition, you can configure the Binder settings that are used to provide a kernel for\n",
    "Thebelab to run the code. These use the same configuration fields as the BinderHub interact\n",
    "buttons described above.\n",
    "\n",
    "For an example, click the **Thebelab** button above on this page, and run the code below."
   ]
  },
  {
   "cell_type": "code",
   "execution_count": 1,
   "metadata": {},
   "outputs": [
    {
     "data": {
      "text/plain": [
       "<matplotlib.collections.PathCollection at 0x7f84f6813f60>"
      ]
     },
     "execution_count": 1,
     "metadata": {},
     "output_type": "execute_result"
    }
   ],
   "source": [
    "import numpy as np\n",
    "import matplotlib.pyplot as plt\n",
    "plt.ion()\n",
    "\n",
    "x = np.arange(500)\n",
    "y = np.random.randn(500)\n",
    "\n",
    "fig, ax = plt.subplots()\n",
    "ax.scatter(x, y, c=y, s=x)"
   ]
  },
  {
   "cell_type": "markdown",
   "metadata": {},
   "source": [
    "## Creating interactive widgets\n",
    "\n",
    "[**nbinteract**](https://www.nbinteract.com) is a tool for displaying interactive widgets in your\n",
    "static HTML page. It uses a Binder kernel to power the widgets, and displays output that your\n",
    "readers can interact with. For example, below we will show a simple matplotlib plot that can be made\n",
    "interactive with **ipywidgets**\n",
    "\n",
    "To add a **Show Widgets** button to your Jupyter Book pages, use the following configuration:\n",
    "\n",
    "```yaml\n",
    "use_show_widgets_button         : true  # If 'true', display a button to show widgets backed by a Binder kernel\n",
    "```\n",
    "\n",
    "Then, tell Jupyter Book that you want a cell to display a widget by **adding a tag** to the cell's\n",
    "metadata called `interactive_output`. When a reader clicks on the \"show widgets\" button, any cells\n",
    "with this tag will be run on Binder, and have their output widgets displayed underneath the cell.\n",
    "\n",
    "You can configure the Binder settings that are used to provide a kernel to run the code.\n",
    "These use the same configuration fields as the BinderHub interact buttons described above."
   ]
  },
  {
   "cell_type": "code",
   "execution_count": 2,
   "metadata": {
    "tags": [
     "interactive_output",
     "hidecode"
    ]
   },
   "outputs": [
    {
     "data": {
      "application/vnd.jupyter.widget-view+json": {
       "model_id": "9594c9cfe16f4deca70b0dba55470732",
       "version_major": 2,
       "version_minor": 0
      },
      "text/plain": [
       "interactive(children=(FloatSlider(value=1.0, description='s', max=2.0, min=0.1), Dropdown(description='cmap', …"
      ]
     },
     "metadata": {},
     "output_type": "display_data"
    }
   ],
   "source": [
    "from ipywidgets import interact, FloatSlider\n",
    "import numpy as np\n",
    "import matplotlib.pyplot as plt\n",
    "from IPython.display import display, HTML\n",
    "plt.ion()\n",
    "\n",
    "x = np.arange(500)\n",
    "y = np.random.randn(500)\n",
    "\n",
    "def update_plot_size(s, cmap):\n",
    "    if cmap == \"jet\":\n",
    "        display(HTML(\"<h2 style='color: red; margin: 0px auto;'>Nope</h2>\"))\n",
    "        return\n",
    "    fig, ax = plt.subplots()\n",
    "    ax.scatter(x, y, c=y, s=x*s, cmap=cmap)\n",
    "\n",
    "interact(update_plot_size, s=FloatSlider(value=1, min=.1, max=2, step=.1), cmap=['viridis', 'magma', 'jet']);"
   ]
  },
  {
   "cell_type": "markdown",
   "metadata": {},
   "source": [
    "## Letting users define their own JupyterHub location\n",
    "\n",
    "If you use interact links with your Jupyter Book, you can also allow users to update\n",
    "these links to their own JupyterHub location by using parameters specified in the URL.\n",
    "If an interact button is present on a page, append the following to a page's URL in order\n",
    "to update where the link points:\n",
    "\n",
    "```\n",
    "mybook.com/mypage?jupyterhub=myhuburl.com\n",
    "```\n",
    "\n",
    "You should see a message displayed next to the interact link that lets the user know\n",
    "where the link now points. This can be useful if you'd like to share content but allow\n",
    "users to run this content wherever they like."
   ]
  },
  {
   "cell_type": "code",
   "execution_count": null,
   "metadata": {},
   "outputs": [],
   "source": []
  },
  {
   "cell_type": "code",
   "execution_count": null,
   "metadata": {},
   "outputs": [],
   "source": []
  }
 ],
 "metadata": {
  "kernelspec": {
   "display_name": "Python 3",
   "language": "python",
   "name": "python3"
  },
  "language_info": {
   "codemirror_mode": {
    "name": "ipython",
    "version": 3
   },
   "file_extension": ".py",
   "mimetype": "text/x-python",
   "name": "python",
   "nbconvert_exporter": "python",
   "pygments_lexer": "ipython3",
   "version": "3.6.5"
  }
 },
 "nbformat": 4,
 "nbformat_minor": 2
}
